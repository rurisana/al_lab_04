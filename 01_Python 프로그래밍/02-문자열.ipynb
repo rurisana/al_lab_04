{
 "cells": [
  {
   "cell_type": "markdown",
   "id": "7347c800",
   "metadata": {},
   "source": [
    "### 문자열(string) : 불변형(immutable), 시퀀스형\n",
    "- 문자열은 요소를 수정할수 없는 자료형, 순서를 갖는 자료형 "
   ]
  },
  {
   "cell_type": "code",
   "execution_count": 17,
   "id": "6620a0b5",
   "metadata": {},
   "outputs": [
    {
     "name": "stdout",
     "output_type": "stream",
     "text": [
      "Hello Python\n",
      "<class 'str'>\n",
      "Good Bye\n",
      "<class 'str'>\n",
      "\n",
      "Desc : This is a test code!\n",
      "Date : 2023-04-05\n",
      "(C) copyright\n",
      "\n",
      "this is a 'double' quotation\n"
     ]
    }
   ],
   "source": [
    "str1 = 'Hello Python'\n",
    "print(str1)\n",
    "print(type(str1))  # <class 'str'>\n",
    "\n",
    "str2 = \"Good Bye\"\n",
    "print(str2)\n",
    "print(type(str2))\n",
    "\n",
    "#  \\ 는 코드의 줄바꿈\n",
    "str3 = \\\n",
    "'''\n",
    "Desc : This is a test code!\n",
    "Date : 2023-04-05\n",
    "(C) copyright\n",
    "'''\n",
    "print(str3)\n",
    "\n",
    "str4 = \"this is a 'double' quotation\"\n",
    "print(str4)"
   ]
  },
  {
   "cell_type": "markdown",
   "id": "b1c77887",
   "metadata": {},
   "source": [
    "### 문자열의 indexing 과 slicing"
   ]
  },
  {
   "cell_type": "code",
   "execution_count": 33,
   "id": "555d6f3b",
   "metadata": {},
   "outputs": [
    {
     "name": "stdout",
     "output_type": "stream",
     "text": [
      "Life is too short, you need python\n",
      "L i f e   t i L\n",
      "n o h\n"
     ]
    }
   ],
   "source": [
    "# indexing : 문자열의 요소를 접근하는 방법, a[index] , 처음 0번으로 시작\n",
    "a = 'Life is too short, you need python'\n",
    "print(a)\n",
    "\n",
    "print(a[0],a[1],a[2],a[3],a[4],a[8],a[True],a[False]) # True ==> 1, False ==> 0\n",
    "print(a[-1],a[-2],a[-3])  # -1 맨 마지막 요소 , 뒤에서부터 인덱싱"
   ]
  },
  {
   "cell_type": "code",
   "execution_count": 26,
   "id": "526881e5",
   "metadata": {},
   "outputs": [
    {
     "data": {
      "text/plain": [
       "bool"
      ]
     },
     "execution_count": 26,
     "metadata": {},
     "output_type": "execute_result"
    }
   ],
   "source": [
    "type(True)"
   ]
  },
  {
   "cell_type": "code",
   "execution_count": 27,
   "id": "324616fe",
   "metadata": {},
   "outputs": [
    {
     "data": {
      "text/plain": [
       "bool"
      ]
     },
     "execution_count": 27,
     "metadata": {},
     "output_type": "execute_result"
    }
   ],
   "source": [
    "type(False)"
   ]
  },
  {
   "cell_type": "code",
   "execution_count": 28,
   "id": "ef2874ad",
   "metadata": {},
   "outputs": [
    {
     "data": {
      "text/plain": [
       "2"
      ]
     },
     "execution_count": 28,
     "metadata": {},
     "output_type": "execute_result"
    }
   ],
   "source": [
    "True + True"
   ]
  },
  {
   "cell_type": "code",
   "execution_count": 29,
   "id": "e51c0b74",
   "metadata": {},
   "outputs": [
    {
     "data": {
      "text/plain": [
       "0"
      ]
     },
     "execution_count": 29,
     "metadata": {},
     "output_type": "execute_result"
    }
   ],
   "source": [
    "True * False"
   ]
  },
  {
   "cell_type": "code",
   "execution_count": null,
   "id": "75337fc9",
   "metadata": {},
   "outputs": [],
   "source": []
  }
 ],
 "metadata": {
  "kernelspec": {
   "display_name": "Python 3 (ipykernel)",
   "language": "python",
   "name": "python3"
  },
  "language_info": {
   "codemirror_mode": {
    "name": "ipython",
    "version": 3
   },
   "file_extension": ".py",
   "mimetype": "text/x-python",
   "name": "python",
   "nbconvert_exporter": "python",
   "pygments_lexer": "ipython3",
   "version": "3.9.16"
  }
 },
 "nbformat": 4,
 "nbformat_minor": 5
}
