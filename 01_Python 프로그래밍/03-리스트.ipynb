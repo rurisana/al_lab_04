{
 "cells": [
  {
   "cell_type": "markdown",
   "id": "11c4e73f",
   "metadata": {},
   "source": [
    "#### 리스트(list) : 가변형(mutable), 시퀀스, 가장 유용한 자료형, [ ] :대괄호, 중복 허용"
   ]
  },
  {
   "cell_type": "code",
   "execution_count": 2,
   "id": "ab9ce281",
   "metadata": {},
   "outputs": [
    {
     "name": "stdout",
     "output_type": "stream",
     "text": [
      "[1, 2, 3, 4, 5, 6]\n",
      "<class 'list'>\n",
      "['hello', 1, 3.5, [1, 2, 3, 4, 5, 6], 3.5, 1]\n"
     ]
    }
   ],
   "source": [
    "a = [1,2,3,4,5,6]\n",
    "print(a)\n",
    "print(type(a))  # <class 'list'>\n",
    "\n",
    "\n",
    "b = ['hello',1,3.5,a,3.5,1]\n",
    "print(b)"
   ]
  },
  {
   "cell_type": "code",
   "execution_count": 3,
   "id": "bcfdc745",
   "metadata": {},
   "outputs": [],
   "source": [
    "# 파이썬 기본 자료형 정리\n",
    "i = 10                      # 정수형 , int\n",
    "f = 3.5                     # 실수형 , float \n",
    "str1 = 'hello'              # 문자열 , str \n",
    "a = [1,2,3]                 # 리스트 , list\n",
    "t = (1,2,3)                 # 튜플   , tuple\n",
    "d = {'name':'kim','age':10} # 사전   , dict\n",
    "s = {1,2,3}                 # 집합   , set "
   ]
  },
  {
   "cell_type": "code",
   "execution_count": 10,
   "id": "7bfcd042",
   "metadata": {},
   "outputs": [
    {
     "name": "stdout",
     "output_type": "stream",
     "text": [
      "1 3 4 6 5 2 1\n",
      "[10, 2, 3, 4, 5, 6]\n",
      "['hi', 0, 0, 0]\n",
      "['hi', [1, 2, 3, 4], 0, 0]\n"
     ]
    }
   ],
   "source": [
    "# 인덱싱\n",
    "a = [1,2,3,4,5,6]\n",
    "print(a[0],a[2],a[3],a[-1],a[-2],a[True],a[False])\n",
    "\n",
    "a[0] = 10   # 가변형이므로 요소 변경이 가능하다\n",
    "print(a)\n",
    "\n",
    "a = [0,0,0,0]\n",
    "a[0] = 'hi'\n",
    "print(a)\n",
    "a[1] = [1,2,3,4]\n",
    "print(a)"
   ]
  },
  {
   "cell_type": "code",
   "execution_count": 22,
   "id": "649de00b",
   "metadata": {},
   "outputs": [
    {
     "name": "stdout",
     "output_type": "stream",
     "text": [
      "[1, 2, 3, 4, 5, 6]\n",
      "[2]\n",
      "2\n",
      "[1, 4]\n",
      "[6, 5, 4, 3, 2, 1]\n",
      "[1, 8, 9, 10, 4, 5, 6]\n"
     ]
    }
   ],
   "source": [
    "# 슬라이싱 : a[start:end+1:step]\n",
    "a = [1,2,3,4,5,6]\n",
    "print(a[:])\n",
    "print(a[1:2])  # from 1 to 1  , 리스트를 반환\n",
    "print(a[1])    # 요소 한개를 반환, 리스트가 아님, 정수를 반환 \n",
    "\n",
    "print(a[::3])  # step 을 3으로\n",
    "print(a[::-1]) # 요소의 순서를 거꾸로 변경한다\n",
    "\n",
    "a[1:3] = [8,9,10]   # 가변형이므로 요소 변경이 가능하다\n",
    "print(a)"
   ]
  },
  {
   "cell_type": "code",
   "execution_count": 33,
   "id": "1b14606b",
   "metadata": {
    "scrolled": true
   },
   "outputs": [
    {
     "name": "stdout",
     "output_type": "stream",
     "text": [
      "[0, 1, 2, 3, 4, 5, 6, 7, 8, 9]\n",
      "[0, 1, 2, 3, 4, 5, 6, 7, 8, 9]\n",
      "[0, 1, 2, 3, 4, 5, 6, 7, 8, 9]\n",
      "[-10, -8, -6, -4, -2, 0, 2, 4, 6, 8, 10, 12, 14, 16, 18, 20, 22, 24, 26, 28, 30, 32, 34, 36, 38, 40, 42, 44, 46, 48, 50, 52, 54, 56, 58, 60, 62, 64, 66, 68, 70, 72, 74, 76, 78, 80, 82, 84, 86, 88, 90, 92, 94, 96, 98]\n"
     ]
    }
   ],
   "source": [
    "# range(start,end + 1, step)\n",
    "print(list(range(0,10,1)))\n",
    "print(list(range(0,10)))\n",
    "print(list(range(10)))  # 많이 사용\n",
    "\n",
    "print(list(range(-10,100,2)))"
   ]
  },
  {
   "cell_type": "code",
   "execution_count": 36,
   "id": "11a74c96",
   "metadata": {},
   "outputs": [
    {
     "name": "stdout",
     "output_type": "stream",
     "text": [
      "10\n",
      "55\n",
      "1\n",
      "10\n"
     ]
    }
   ],
   "source": [
    "a = [1,2,3,4,5,6,7,8,9,10]\n",
    "print(len(a))   # 요소의 갯수, byte size가 아니다\n",
    "print(sum(a))   # 요소의 합\n",
    "print(min(a))   # 최소값\n",
    "print(max(a))   # 최대값"
   ]
  },
  {
   "cell_type": "code",
   "execution_count": 41,
   "id": "cc9fd42b",
   "metadata": {},
   "outputs": [
    {
     "name": "stdout",
     "output_type": "stream",
     "text": [
      "[1, 2, 3, 3, 4, 5]\n",
      "[1, 2, 3, 1, 2, 3, 1, 2, 3]\n"
     ]
    }
   ],
   "source": [
    "# 연산자\n",
    "# dir(a)\n",
    "\n",
    "a = [1,2,3]\n",
    "b = [3,4,5]\n",
    "\n",
    "c = a + b\n",
    "print(c)\n",
    "\n",
    "d = a * 3   # 3회 반복하여 추가\n",
    "print(d)"
   ]
  },
  {
   "cell_type": "code",
   "execution_count": 44,
   "id": "d79a1a9c",
   "metadata": {},
   "outputs": [
    {
     "name": "stdout",
     "output_type": "stream",
     "text": [
      "True\n",
      "False\n",
      "[4, 5]\n"
     ]
    }
   ],
   "source": [
    "print(3 in a)  # 리스트 a내에 요소 3이 들어 있는가? , True\n",
    "print(4 in a)  # 리스트 a내에 요소 4이 들어 있는가? , False\n",
    "\n",
    "del b[0]       # 가변형이므로 요소 객체를 삭제, 원본이 변경됨\n",
    "print(b)"
   ]
  },
  {
   "cell_type": "code",
   "execution_count": 48,
   "id": "d8335cdb",
   "metadata": {},
   "outputs": [
    {
     "name": "stdout",
     "output_type": "stream",
     "text": [
      "[1, 2, 3, 4]\n"
     ]
    },
    {
     "data": {
      "text/plain": [
       "[1, 2, 3, 4, [5, 6]]"
      ]
     },
     "execution_count": 48,
     "metadata": {},
     "output_type": "execute_result"
    }
   ],
   "source": [
    "# 추가 :   원본이 변경\n",
    "a = [1,2,3]\n",
    "a.append(4)\n",
    "print(a)  \n",
    "\n",
    "a.append([5,6])\n",
    "print(a)"
   ]
  },
  {
   "cell_type": "code",
   "execution_count": 58,
   "id": "35c9ff7e",
   "metadata": {},
   "outputs": [
    {
     "name": "stdout",
     "output_type": "stream",
     "text": [
      "[]\n",
      "[0, 1, 2, 3, 4, 5, 6, 7, 8, 9]\n"
     ]
    }
   ],
   "source": [
    "a = []   # 빈리스트\n",
    "print(a)\n",
    "# a[0] = 1  # IndexError: list assignment index out of range\n",
    "\n",
    "for k in range(10):\n",
    "    a.append(k)\n",
    "    # print('k:',k,'a:',a)\n",
    "    # input()   # 디버깅 용도\n",
    "print(a)    "
   ]
  },
  {
   "cell_type": "code",
   "execution_count": 67,
   "id": "c5d62410",
   "metadata": {},
   "outputs": [
    {
     "name": "stdout",
     "output_type": "stream",
     "text": [
      "[1, 2, 4, 5, [6, 7]]\n",
      "[1, 2, 4, 5]\n"
     ]
    }
   ],
   "source": [
    "# 제거\n",
    "a = [1,2,3.5,4,5,[6,7]]\n",
    "a.remove(3.5)      # 원하는 요소를 제거 , del a[2]\n",
    "print(a)\n",
    "a.remove([6,7])\n",
    "print(a)"
   ]
  },
  {
   "cell_type": "code",
   "execution_count": 68,
   "id": "30f761dd",
   "metadata": {},
   "outputs": [
    {
     "name": "stdout",
     "output_type": "stream",
     "text": [
      "[1, 2, 4]\n"
     ]
    }
   ],
   "source": [
    "a.pop()   # 마지막 요소를 제거\n",
    "print(a)"
   ]
  },
  {
   "cell_type": "code",
   "execution_count": 69,
   "id": "05e4a676",
   "metadata": {},
   "outputs": [
    {
     "name": "stdout",
     "output_type": "stream",
     "text": [
      "[1, 5, 2, 4, 3]\n",
      "[1, 2, 3, 4, 5]\n",
      "[5, 4, 3, 2, 1]\n"
     ]
    }
   ],
   "source": [
    "# 정렬\n",
    "a = [1,5,2,4,3]\n",
    "print(a)\n",
    "a.sort()                 # 오름 차순 : 작은 값부터 큰 값 순서로 정렬 , 원본이 변경\n",
    "print(a)\n",
    "\n",
    "a.sort(reverse=True)     # 내림 차순: 큰 값부터 작은 값 순서로 정렬 , 원본이 변경\n",
    "print(a)"
   ]
  },
  {
   "cell_type": "code",
   "execution_count": 104,
   "id": "572bc1ea",
   "metadata": {},
   "outputs": [
    {
     "name": "stdout",
     "output_type": "stream",
     "text": [
      "[1, 2, 3, 4, [5, 6, 7, 'hello']]\n",
      "[5, 6, 7, 'hello']\n",
      "6\n",
      "hello\n",
      "h\n",
      "h\n",
      "4\n"
     ]
    },
    {
     "data": {
      "text/plain": [
       "2"
      ]
     },
     "execution_count": 104,
     "metadata": {},
     "output_type": "execute_result"
    }
   ],
   "source": [
    "# 중첩(Nested) 리스트 : 리스트안에 또 다른 리스트가 포함됨\n",
    "a = [1,2,3,4,[5,6,7,'hello']]\n",
    "print(a)\n",
    "print(a[4])\n",
    "print(a[4][1])\n",
    "print(a[4][3])\n",
    "print(a[4][3][0])\n",
    "print('hello'[0])\n",
    "print([1,2,3,4][3])\n",
    "\n",
    "a[a[[0,1,2,[1,2,3,4,[0,1,2]]][3][4][:-1][0]]]  # 복잡한 표현도 분해해서 해석"
   ]
  },
  {
   "cell_type": "code",
   "execution_count": 118,
   "id": "f6aafa79",
   "metadata": {},
   "outputs": [
    {
     "name": "stdout",
     "output_type": "stream",
     "text": [
      "[6, 8, 10]\n"
     ]
    }
   ],
   "source": [
    "a = []\n",
    "for k in range(0,11,2):\n",
    "    if k > 4:\n",
    "        a.append(k)\n",
    "print(a)    "
   ]
  },
  {
   "cell_type": "code",
   "execution_count": 115,
   "id": "115cf182",
   "metadata": {},
   "outputs": [
    {
     "name": "stdout",
     "output_type": "stream",
     "text": [
      "[0, 2, 4, 6, 8, 10]\n",
      "[0, 4, 8, 12, 16, 20]\n"
     ]
    }
   ],
   "source": [
    "# 리스트 내장(List Comprehension)  : 파이썬 스타일(Pythonic), 필수 암기\n",
    "a = [k for k in range(0,11,2)]\n",
    "print(a)\n",
    "\n",
    "b = [k*2 for k in range(0,11,2)] \n",
    "print(b)"
   ]
  },
  {
   "cell_type": "code",
   "execution_count": 117,
   "id": "e150248e",
   "metadata": {},
   "outputs": [
    {
     "name": "stdout",
     "output_type": "stream",
     "text": [
      "[6, 8, 10]\n"
     ]
    }
   ],
   "source": [
    "a = list(range(0,11,2))\n",
    "c = [k for k in a if k > 4]  # 조건식이 포함된 리스트 내장\n",
    "print(c)"
   ]
  },
  {
   "cell_type": "code",
   "execution_count": 119,
   "id": "acafd088",
   "metadata": {},
   "outputs": [
    {
     "name": "stdout",
     "output_type": "stream",
     "text": [
      "[6]\n"
     ]
    }
   ],
   "source": [
    "c = [k for k in a if (k%3 == 0) and (k > 4)]   # 3의 배수이고 4보다 큰수로 리스트생성\n",
    "print(c)"
   ]
  },
  {
   "cell_type": "markdown",
   "id": "772d0e9f",
   "metadata": {},
   "source": [
    "1. 리스트에 '+', '-', '*', '/'를 저장해 놓고 정수 2개를 입력 받고 계산 방식은\n",
    "   정수로 입력받아 해당 연산을 수행하는 프로그램을 작성하시오(선택옵션:eval()함수를 사용하세요)\n",
    "   \n",
    "   (계산방식은 1이면 '+', 2이면 '-', 3이면 '*', 4이면 '/')\n",
    "   \n",
    "        <힌트> op_select = int(input('Input operator( 1:+, 2:-, 3:*, 4:/ ) : '))\n"
   ]
  },
  {
   "cell_type": "code",
   "execution_count": null,
   "id": "5f1f4de0",
   "metadata": {},
   "outputs": [],
   "source": [
    "op = [ '+', '-', '*', '/ ]\n"
   ]
  },
  {
   "cell_type": "markdown",
   "id": "e0885464",
   "metadata": {},
   "source": [
    "2. 1 ~ n까지 합을 출력하는 프로그램을  리스트를 이용하여 작성하시오.\n",
    "    (range(),sum()함수를 사용하세요, 최대값 n을 input()함수로 입력 받아 사용하세요)\n",
    "\t\n",
    "        <힌트>  >>>mylist = [0,1,2,3,4,5,6,7,8,9,10]\n",
    "                >>>sum(mylist)\n",
    "                          55"
   ]
  },
  {
   "cell_type": "code",
   "execution_count": null,
   "id": "4549fd7d",
   "metadata": {},
   "outputs": [],
   "source": []
  }
 ],
 "metadata": {
  "kernelspec": {
   "display_name": "Python 3 (ipykernel)",
   "language": "python",
   "name": "python3"
  },
  "language_info": {
   "codemirror_mode": {
    "name": "ipython",
    "version": 3
   },
   "file_extension": ".py",
   "mimetype": "text/x-python",
   "name": "python",
   "nbconvert_exporter": "python",
   "pygments_lexer": "ipython3",
   "version": "3.9.16"
  }
 },
 "nbformat": 4,
 "nbformat_minor": 5
}
