{
 "cells": [
  {
   "cell_type": "code",
   "execution_count": 1,
   "id": "aedb736f",
   "metadata": {},
   "outputs": [
    {
     "data": {
      "text/plain": [
       "30"
      ]
     },
     "execution_count": 1,
     "metadata": {},
     "output_type": "execute_result"
    }
   ],
   "source": [
    "a = 10\n",
    "b = 20\n",
    "c = a + b\n",
    "c               # shift + enter"
   ]
  },
  {
   "cell_type": "code",
   "execution_count": 2,
   "id": "c18e4a75",
   "metadata": {},
   "outputs": [
    {
     "data": {
      "text/plain": [
       "'3.9.16 (main, Mar  1 2023, 18:30:21) [MSC v.1916 64 bit (AMD64)]'"
      ]
     },
     "execution_count": 2,
     "metadata": {},
     "output_type": "execute_result"
    }
   ],
   "source": [
    "# 파이썬 버전 확인 코드\n",
    "import sys\n",
    "sys.version    # shift + enter"
   ]
  },
  {
   "cell_type": "markdown",
   "id": "ba2fea38",
   "metadata": {},
   "source": [
    "### 단축키 요약\n",
    "* shift + enter : 셀실행 후 다음 셀로 이동\n",
    "* alt + enter : 셀실행 후 다음에 셀을 추가\n",
    "* ctrl + '/' : 주석문 설정/해제\n",
    "* Tab : 들여 쓰기\n",
    "* shift + Tab : 들여 쓰기 해제"
   ]
  },
  {
   "cell_type": "markdown",
   "id": "aa5f19ae",
   "metadata": {},
   "source": [
    "### 파이썬 자료형\n",
    "- 정수형 : int형"
   ]
  },
  {
   "cell_type": "code",
   "execution_count": 3,
   "id": "c893dffa",
   "metadata": {},
   "outputs": [
    {
     "name": "stdout",
     "output_type": "stream",
     "text": [
      "12345\n",
      "100\n"
     ]
    },
    {
     "data": {
      "text/plain": [
       "12445"
      ]
     },
     "execution_count": 3,
     "metadata": {},
     "output_type": "execute_result"
    }
   ],
   "source": [
    "a = 12345\n",
    "b = 100\n",
    "c = a + b\n",
    "print(a)\n",
    "print(b)\n",
    "c"
   ]
  },
  {
   "cell_type": "code",
   "execution_count": 4,
   "id": "67fc1b99",
   "metadata": {},
   "outputs": [
    {
     "name": "stdout",
     "output_type": "stream",
     "text": [
      "10\n",
      "0b1010\n",
      "0xa\n",
      "0o12\n",
      "<class 'int'>\n"
     ]
    }
   ],
   "source": [
    "a = 10\n",
    "print(int(10)) # 십진수\n",
    "print(bin(10)) # 이진수\n",
    "print(hex(a))   # 16진수로 출력\n",
    "print(oct(a))   # 8진수로 출력\n",
    "print(type(a))  # 데이터 타입을 출력"
   ]
  },
  {
   "cell_type": "markdown",
   "id": "b1ec18f6",
   "metadata": {},
   "source": [
    "* 실수형 : float 형"
   ]
  },
  {
   "cell_type": "code",
   "execution_count": 5,
   "id": "111ae62f",
   "metadata": {},
   "outputs": [
    {
     "name": "stdout",
     "output_type": "stream",
     "text": [
      "10.54\n",
      "<class 'float'>\n",
      "10.0 <class 'float'>\n"
     ]
    },
    {
     "data": {
      "text/plain": [
       "(10.0, 10.0, 0.1, 0.1)"
      ]
     },
     "execution_count": 5,
     "metadata": {},
     "output_type": "execute_result"
    }
   ],
   "source": [
    "f = 10.54\n",
    "print(f)\n",
    "print(type(f))\n",
    "b = float(a)       # 형변환\n",
    "print(b,type(b))\n",
    "f1= 10.0\n",
    "f2= 10.\n",
    "f3= 0.1\n",
    "f4= .1\n",
    "f1,f2,f3,f4"
   ]
  },
  {
   "cell_type": "code",
   "execution_count": 6,
   "id": "9a9de091",
   "metadata": {},
   "outputs": [
    {
     "name": "stdout",
     "output_type": "stream",
     "text": [
      "13\n",
      "7\n",
      "30\n",
      "3.3333333333333335 <class 'int'>\n",
      "1\n",
      "3\n",
      "1000\n"
     ]
    }
   ],
   "source": [
    "### 사칙 연산 : +, -, *, /, %, //, **\n",
    "a = 10\n",
    "b = 3\n",
    "c = a + b\n",
    "print(c)\n",
    "\n",
    "c = a - b\n",
    "print(c)\n",
    "\n",
    "c = a * b\n",
    "print(c)\n",
    "\n",
    "f = a / b   # float형\n",
    "print(f,type(b))   \n",
    "\n",
    "\n",
    "g = a % b\n",
    "print(g)    # 나머지\n",
    "\n",
    "f2 = a // b # 정수 몫을 구하는 나누기\n",
    "print(f2)\n",
    "\n",
    "h = a ** b  # 10^3, 10의 3제곱\n",
    "print(h)    # 1000"
   ]
  },
  {
   "cell_type": "markdown",
   "id": "da9ec95c",
   "metadata": {},
   "source": [
    "#### 객체 :  파이썬의 모든 변수,  데이터 형은 객체로 관리된다"
   ]
  },
  {
   "cell_type": "code",
   "execution_count": 7,
   "id": "d94587d5",
   "metadata": {},
   "outputs": [
    {
     "name": "stdout",
     "output_type": "stream",
     "text": [
      "0x28908516cd0\n",
      "0x28908516e10\n",
      "0x28908516cd0\n",
      "0x28908516e10\n"
     ]
    }
   ],
   "source": [
    "a = 30     # int 클래스의 인스턴스 객체를 생성\n",
    "print(hex(id(a)))\n",
    "b = 40     # int 클래스의 인스턴스 객체를 생성\n",
    "print(hex(id(b)))\n",
    "b = a\n",
    "print(hex(id(b)))\n",
    "b = 40\n",
    "print(hex(id(b)))\n",
    "\n",
    "del b     # 객체의 삭제\n",
    "# print(hex(id(b))) # NameError                                 "
   ]
  },
  {
   "cell_type": "markdown",
   "id": "78cebd04",
   "metadata": {},
   "source": [
    "### 표준 입출력\n",
    "#### 1. 표준 입력 : 변수 = input()"
   ]
  },
  {
   "cell_type": "code",
   "execution_count": 8,
   "id": "81a319a2",
   "metadata": {},
   "outputs": [
    {
     "name": "stdout",
     "output_type": "stream",
     "text": [
      "10\n",
      "10\n"
     ]
    },
    {
     "data": {
      "text/plain": [
       "str"
      ]
     },
     "execution_count": 8,
     "metadata": {},
     "output_type": "execute_result"
    }
   ],
   "source": [
    "a = input()   # 문자열을 반환\n",
    "print(a)\n",
    "type(a)"
   ]
  },
  {
   "cell_type": "code",
   "execution_count": 9,
   "id": "197dae26",
   "metadata": {},
   "outputs": [
    {
     "name": "stdout",
     "output_type": "stream",
     "text": [
      "영어점수:80\n",
      "수학점수:70\n",
      "150\n"
     ]
    }
   ],
   "source": [
    "english = input('영어점수:')\n",
    "math = input('수학점수:')\n",
    "total = int(english) + int(math)   # int형으로 변환, float형 값을 입력하면 오류!!\n",
    "# total = english + math           # 문자열 '8070'을 반환\n",
    "print(total)"
   ]
  },
  {
   "cell_type": "markdown",
   "id": "9c0f69d3",
   "metadata": {},
   "source": [
    "#### 2. 표준 출력 : print()"
   ]
  },
  {
   "cell_type": "code",
   "execution_count": 10,
   "id": "b2f0fe8a",
   "metadata": {},
   "outputs": [
    {
     "name": "stdout",
     "output_type": "stream",
     "text": [
      "add = 9 sub= 2\n",
      "영어: 80 수학: 70 총점: 150\n",
      "1 2\n",
      "3 4\n"
     ]
    }
   ],
   "source": [
    "print('add =',4 + 5,'sub=',4 - 2)\n",
    "print('영어:',int(english),'수학:',int(math),'총점:',total)\n",
    "print(1,2); print(3,4)  #  마지막에 자동으로 '\\n'"
   ]
  },
  {
   "cell_type": "code",
   "execution_count": 11,
   "id": "a81873ae",
   "metadata": {},
   "outputs": [
    {
     "name": "stdout",
     "output_type": "stream",
     "text": [
      "1 2 3 4\n"
     ]
    }
   ],
   "source": [
    "print(1,2, end=' ')  # 줄바꿈 대신에 space를 사용\n",
    "print(3,4)"
   ]
  },
  {
   "cell_type": "code",
   "execution_count": 12,
   "id": "7dff91b3",
   "metadata": {},
   "outputs": [
    {
     "name": "stdout",
     "output_type": "stream",
     "text": [
      "5:6:7\n"
     ]
    }
   ],
   "source": [
    "print(5,6,7,sep=':') # space대신에 ':'으로 출력 "
   ]
  },
  {
   "cell_type": "markdown",
   "id": "4228fd11",
   "metadata": {},
   "source": [
    "### print formatting"
   ]
  },
  {
   "cell_type": "code",
   "execution_count": 13,
   "id": "c6a791a1",
   "metadata": {},
   "outputs": [
    {
     "name": "stdout",
     "output_type": "stream",
     "text": [
      "int형: 10\n",
      "float형: 1.234000\n",
      "16진수: 0xa\n",
      "문자열: Hello Python\n",
      "문자열: Hello Python int형: 10\n"
     ]
    }
   ],
   "source": [
    "num_1 = 10\n",
    "num_2 = 1.234\n",
    "str_1  = 'Hello Python' \n",
    "\n",
    "print('int형: %d'%num_1)\n",
    "print('float형: %f'%num_2)\n",
    "print('16진수: 0x%x'%num_1)\n",
    "print('문자열: %s'%str_1)\n",
    "\n",
    "print('문자열: %s int형: %d'%(str_1,num_1))"
   ]
  },
  {
   "cell_type": "code",
   "execution_count": 14,
   "id": "8aea8db1",
   "metadata": {},
   "outputs": [
    {
     "name": "stdout",
     "output_type": "stream",
     "text": [
      "1.234560\n",
      "apple / 7.77\n",
      "apple      /   7.770\n",
      "     apple /   7.770\n",
      "  apple    /   7.770\n",
      "apple===== /   7.770\n",
      "**apple*** /   7.770\n"
     ]
    }
   ],
   "source": [
    "# format() 함수\n",
    "print(format(1.23456,'7.6f')) # 전체 7 자리, 소숫점 6 자리\n",
    "\n",
    "# 추천 방법\n",
    "print('{0} / {1}'.format('apple',7.77))\n",
    "\n",
    "print('{0:<10} / {1:7.3f}'.format('apple',7.77))  # 10 자리 왼쪽으로 정렬 \n",
    "print('{0:>10} / {1:7.3f}'.format('apple',7.77))  # 10 자리 오른쪽으로 정렬 \n",
    "print('{0:^10} / {1:7.3f}'.format('apple',7.77))  # 10 자리 가운데로 정렬 \n",
    "\n",
    "print('{0:=<10} / {1:7.3f}'.format('apple',7.77)) # 빈칸을 '='기호로 채움 \n",
    "print('{0:*^10} / {1:7.3f}'.format('apple',7.77)) # 빈칸을 '*'기호로 채움 "
   ]
  },
  {
   "cell_type": "markdown",
   "id": "dab10e05",
   "metadata": {},
   "source": [
    "#### eval()함수 : 문자열로 표현된 파이썬 식(expression)을 인자로 받아 인터프리터가 번역하여 실행하도록 한다"
   ]
  },
  {
   "cell_type": "code",
   "execution_count": 15,
   "id": "78e10956",
   "metadata": {},
   "outputs": [
    {
     "name": "stdout",
     "output_type": "stream",
     "text": [
      "a+20 <class 'str'>\n",
      "30\n"
     ]
    }
   ],
   "source": [
    "a = 10\n",
    "express = 'a' + '+' + '20'\n",
    "print(express,type(express))\n",
    "# b = a + 20\n",
    "\n",
    "b = eval(express)\n",
    "print(b)"
   ]
  },
  {
   "cell_type": "code",
   "execution_count": 17,
   "id": "802dea13",
   "metadata": {},
   "outputs": [
    {
     "name": "stdout",
     "output_type": "stream",
     "text": [
      "파이썬 식:a + 20\n"
     ]
    },
    {
     "data": {
      "text/plain": [
       "30"
      ]
     },
     "execution_count": 17,
     "metadata": {},
     "output_type": "execute_result"
    }
   ],
   "source": [
    "e = input('파이썬 식:')\n",
    "eval(e)"
   ]
  },
  {
   "cell_type": "markdown",
   "id": "4e39a48b",
   "metadata": {},
   "source": [
    "[숫자형 실습과제]\n",
    "\n",
    "1. 속도와 거리를 입력받아 시간을 계산하여   출력하는 프로그램\n",
    "   \n",
    "        거리 / 속도"
   ]
  },
  {
   "cell_type": "code",
   "execution_count": 21,
   "id": "5f62456d",
   "metadata": {},
   "outputs": [
    {
     "name": "stdout",
     "output_type": "stream",
     "text": [
      "========================1번========================\n",
      "Input velocity : 10\n",
      "Input distance : 50\n",
      "\n",
      "velocity : 10.00 \n",
      "distance : 50.00 \n",
      "time     : 5.00  \n"
     ]
    }
   ],
   "source": [
    "print( '{0:=^50}'.format( '1번' ) )\n",
    "velocity = input( 'Input velocity : ' )\n",
    "distance = input( 'Input distance : ' )\n",
    "\n",
    "#time = eval( distance + '/' + velocity )\n",
    "time = int(distance) / int(velocity)\n",
    "print()\n",
    "print( 'velocity : {0:<6.2f}'.format( float( velocity ) ) )\n",
    "print( 'distance : {0:<6.2f}'.format( float( distance ) ) )\n",
    "print( 'time     : {0:<6.2f}'.format( time ) )"
   ]
  },
  {
   "cell_type": "markdown",
   "id": "8c72f197",
   "metadata": {},
   "source": [
    "2. 길이와 너비를 입력받아 면적과 둘레를  계산하여 출력하는 프로그램\n",
    "   \n",
    "         면적  = 길이 * 너비  \t \n",
    "         둘레 = 길이 * 2 + 너비 * 2"
   ]
  },
  {
   "cell_type": "code",
   "execution_count": 22,
   "id": "20099eb2",
   "metadata": {},
   "outputs": [
    {
     "name": "stdout",
     "output_type": "stream",
     "text": [
      "========================2번========================\n",
      "Input length : 10\n",
      "Input width : 20\n",
      "\n",
      "length : 10.00 \twidth : 20.00 \n",
      "area : 200.00\n",
      "circumference : 60.00 \n"
     ]
    }
   ],
   "source": [
    "print( '{0:=^50}'.format( '2번' ) )\n",
    "length = input( 'Input length : ' )\n",
    "width = input( 'Input width : ' )\n",
    "\n",
    "#area = eval( length + '*' + width )\n",
    "area =  int(length) * int(width)\n",
    "#circumference = eval( length + '*' + '2' + '+' + width + '*' + '2' )\n",
    "circumference =  int(length) * 2 + int(width) *2\n",
    "\n",
    "print()\n",
    "print( 'length : {0:<6.2f}\\twidth : {1:<6.2f}'.format( float( length ), float( width ) ) )\n",
    "print( 'area : {0:<6.2f}'.format( area ) )\n",
    "print( 'circumference : {0:<6.2f}'.format( circumference ) )\n"
   ]
  },
  {
   "cell_type": "code",
   "execution_count": null,
   "id": "eda8c274",
   "metadata": {},
   "outputs": [],
   "source": []
  }
 ],
 "metadata": {
  "kernelspec": {
   "display_name": "Python 3 (ipykernel)",
   "language": "python",
   "name": "python3"
  },
  "language_info": {
   "codemirror_mode": {
    "name": "ipython",
    "version": 3
   },
   "file_extension": ".py",
   "mimetype": "text/x-python",
   "name": "python",
   "nbconvert_exporter": "python",
   "pygments_lexer": "ipython3",
   "version": "3.9.16"
  }
 },
 "nbformat": 4,
 "nbformat_minor": 5
}
